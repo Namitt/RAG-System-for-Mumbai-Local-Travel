{
  "nbformat": 4,
  "nbformat_minor": 0,
  "metadata": {
    "colab": {
      "provenance": [],
      "gpuType": "T4"
    },
    "kernelspec": {
      "name": "python3",
      "display_name": "Python 3"
    },
    "language_info": {
      "name": "python"
    },
    "accelerator": "GPU"
  },
  "cells": [
    {
      "cell_type": "markdown",
      "source": [
        "# **RAG System for Mumbai Local Travel**"
      ],
      "metadata": {
        "id": "JArbUSQppalN"
      }
    },
    {
      "cell_type": "markdown",
      "source": [
        "#1. Installation of Libraries"
      ],
      "metadata": {
        "id": "I-xIZyzkZ7gj"
      }
    },
    {
      "cell_type": "code",
      "execution_count": null,
      "metadata": {
        "colab": {
          "base_uri": "https://localhost:8080/"
        },
        "collapsed": true,
        "id": "fW5_vZlYld4h",
        "outputId": "a3d3e405-27f2-445c-8f92-d5e867fc55f9"
      },
      "outputs": [
        {
          "output_type": "stream",
          "name": "stdout",
          "text": [
            "Requirement already satisfied: faiss-gpu in /usr/local/lib/python3.10/dist-packages (1.7.2)\n",
            "Requirement already satisfied: sentence_transformers in /usr/local/lib/python3.10/dist-packages (3.0.1)\n",
            "Requirement already satisfied: transformers<5.0.0,>=4.34.0 in /usr/local/lib/python3.10/dist-packages (from sentence_transformers) (4.41.2)\n",
            "Requirement already satisfied: tqdm in /usr/local/lib/python3.10/dist-packages (from sentence_transformers) (4.66.4)\n",
            "Requirement already satisfied: torch>=1.11.0 in /usr/local/lib/python3.10/dist-packages (from sentence_transformers) (2.3.0+cu121)\n",
            "Requirement already satisfied: numpy in /usr/local/lib/python3.10/dist-packages (from sentence_transformers) (1.25.2)\n",
            "Requirement already satisfied: scikit-learn in /usr/local/lib/python3.10/dist-packages (from sentence_transformers) (1.2.2)\n",
            "Requirement already satisfied: scipy in /usr/local/lib/python3.10/dist-packages (from sentence_transformers) (1.11.4)\n",
            "Requirement already satisfied: huggingface-hub>=0.15.1 in /usr/local/lib/python3.10/dist-packages (from sentence_transformers) (0.23.2)\n",
            "Requirement already satisfied: Pillow in /usr/local/lib/python3.10/dist-packages (from sentence_transformers) (9.4.0)\n",
            "Requirement already satisfied: filelock in /usr/local/lib/python3.10/dist-packages (from huggingface-hub>=0.15.1->sentence_transformers) (3.14.0)\n",
            "Requirement already satisfied: fsspec>=2023.5.0 in /usr/local/lib/python3.10/dist-packages (from huggingface-hub>=0.15.1->sentence_transformers) (2023.6.0)\n",
            "Requirement already satisfied: packaging>=20.9 in /usr/local/lib/python3.10/dist-packages (from huggingface-hub>=0.15.1->sentence_transformers) (24.0)\n",
            "Requirement already satisfied: pyyaml>=5.1 in /usr/local/lib/python3.10/dist-packages (from huggingface-hub>=0.15.1->sentence_transformers) (6.0.1)\n",
            "Requirement already satisfied: requests in /usr/local/lib/python3.10/dist-packages (from huggingface-hub>=0.15.1->sentence_transformers) (2.31.0)\n",
            "Requirement already satisfied: typing-extensions>=3.7.4.3 in /usr/local/lib/python3.10/dist-packages (from huggingface-hub>=0.15.1->sentence_transformers) (4.12.1)\n",
            "Requirement already satisfied: sympy in /usr/local/lib/python3.10/dist-packages (from torch>=1.11.0->sentence_transformers) (1.12.1)\n",
            "Requirement already satisfied: networkx in /usr/local/lib/python3.10/dist-packages (from torch>=1.11.0->sentence_transformers) (3.3)\n",
            "Requirement already satisfied: jinja2 in /usr/local/lib/python3.10/dist-packages (from torch>=1.11.0->sentence_transformers) (3.1.4)\n",
            "Requirement already satisfied: nvidia-cuda-nvrtc-cu12==12.1.105 in /usr/local/lib/python3.10/dist-packages (from torch>=1.11.0->sentence_transformers) (12.1.105)\n",
            "Requirement already satisfied: nvidia-cuda-runtime-cu12==12.1.105 in /usr/local/lib/python3.10/dist-packages (from torch>=1.11.0->sentence_transformers) (12.1.105)\n",
            "Requirement already satisfied: nvidia-cuda-cupti-cu12==12.1.105 in /usr/local/lib/python3.10/dist-packages (from torch>=1.11.0->sentence_transformers) (12.1.105)\n",
            "Requirement already satisfied: nvidia-cudnn-cu12==8.9.2.26 in /usr/local/lib/python3.10/dist-packages (from torch>=1.11.0->sentence_transformers) (8.9.2.26)\n",
            "Requirement already satisfied: nvidia-cublas-cu12==12.1.3.1 in /usr/local/lib/python3.10/dist-packages (from torch>=1.11.0->sentence_transformers) (12.1.3.1)\n",
            "Requirement already satisfied: nvidia-cufft-cu12==11.0.2.54 in /usr/local/lib/python3.10/dist-packages (from torch>=1.11.0->sentence_transformers) (11.0.2.54)\n",
            "Requirement already satisfied: nvidia-curand-cu12==10.3.2.106 in /usr/local/lib/python3.10/dist-packages (from torch>=1.11.0->sentence_transformers) (10.3.2.106)\n",
            "Requirement already satisfied: nvidia-cusolver-cu12==11.4.5.107 in /usr/local/lib/python3.10/dist-packages (from torch>=1.11.0->sentence_transformers) (11.4.5.107)\n",
            "Requirement already satisfied: nvidia-cusparse-cu12==12.1.0.106 in /usr/local/lib/python3.10/dist-packages (from torch>=1.11.0->sentence_transformers) (12.1.0.106)\n",
            "Requirement already satisfied: nvidia-nccl-cu12==2.20.5 in /usr/local/lib/python3.10/dist-packages (from torch>=1.11.0->sentence_transformers) (2.20.5)\n",
            "Requirement already satisfied: nvidia-nvtx-cu12==12.1.105 in /usr/local/lib/python3.10/dist-packages (from torch>=1.11.0->sentence_transformers) (12.1.105)\n",
            "Requirement already satisfied: triton==2.3.0 in /usr/local/lib/python3.10/dist-packages (from torch>=1.11.0->sentence_transformers) (2.3.0)\n",
            "Requirement already satisfied: nvidia-nvjitlink-cu12 in /usr/local/lib/python3.10/dist-packages (from nvidia-cusolver-cu12==11.4.5.107->torch>=1.11.0->sentence_transformers) (12.5.40)\n",
            "Requirement already satisfied: regex!=2019.12.17 in /usr/local/lib/python3.10/dist-packages (from transformers<5.0.0,>=4.34.0->sentence_transformers) (2024.5.15)\n",
            "Requirement already satisfied: tokenizers<0.20,>=0.19 in /usr/local/lib/python3.10/dist-packages (from transformers<5.0.0,>=4.34.0->sentence_transformers) (0.19.1)\n",
            "Requirement already satisfied: safetensors>=0.4.1 in /usr/local/lib/python3.10/dist-packages (from transformers<5.0.0,>=4.34.0->sentence_transformers) (0.4.3)\n",
            "Requirement already satisfied: joblib>=1.1.1 in /usr/local/lib/python3.10/dist-packages (from scikit-learn->sentence_transformers) (1.4.2)\n",
            "Requirement already satisfied: threadpoolctl>=2.0.0 in /usr/local/lib/python3.10/dist-packages (from scikit-learn->sentence_transformers) (3.5.0)\n",
            "Requirement already satisfied: MarkupSafe>=2.0 in /usr/local/lib/python3.10/dist-packages (from jinja2->torch>=1.11.0->sentence_transformers) (2.1.5)\n",
            "Requirement already satisfied: charset-normalizer<4,>=2 in /usr/local/lib/python3.10/dist-packages (from requests->huggingface-hub>=0.15.1->sentence_transformers) (3.3.2)\n",
            "Requirement already satisfied: idna<4,>=2.5 in /usr/local/lib/python3.10/dist-packages (from requests->huggingface-hub>=0.15.1->sentence_transformers) (3.7)\n",
            "Requirement already satisfied: urllib3<3,>=1.21.1 in /usr/local/lib/python3.10/dist-packages (from requests->huggingface-hub>=0.15.1->sentence_transformers) (2.0.7)\n",
            "Requirement already satisfied: certifi>=2017.4.17 in /usr/local/lib/python3.10/dist-packages (from requests->huggingface-hub>=0.15.1->sentence_transformers) (2024.6.2)\n",
            "Requirement already satisfied: mpmath<1.4.0,>=1.1.0 in /usr/local/lib/python3.10/dist-packages (from sympy->torch>=1.11.0->sentence_transformers) (1.3.0)\n",
            "ERROR: unknown command \"installtransformers\"\n",
            "ERROR: unknown command \"installtorch\" - maybe you meant \"install\"\n",
            "Requirement already satisfied: pandas in /usr/local/lib/python3.10/dist-packages (2.0.3)\n",
            "Requirement already satisfied: python-dateutil>=2.8.2 in /usr/local/lib/python3.10/dist-packages (from pandas) (2.8.2)\n",
            "Requirement already satisfied: pytz>=2020.1 in /usr/local/lib/python3.10/dist-packages (from pandas) (2023.4)\n",
            "Requirement already satisfied: tzdata>=2022.1 in /usr/local/lib/python3.10/dist-packages (from pandas) (2024.1)\n",
            "Requirement already satisfied: numpy>=1.21.0 in /usr/local/lib/python3.10/dist-packages (from pandas) (1.25.2)\n",
            "Requirement already satisfied: six>=1.5 in /usr/local/lib/python3.10/dist-packages (from python-dateutil>=2.8.2->pandas) (1.16.0)\n"
          ]
        }
      ],
      "source": [
        "# Installing libraries required for data manipulation, text embedding, and similarity search.\n",
        "!pip install faiss-gpu # If using a GPU, otherwise install faiss-cpu\n",
        "!pip install sentence_transformers # For using sentence transformers\n",
        "!pip installtransformers\n",
        "!pip installtorch\n",
        "!pip install pandas\n"
      ]
    },
    {
      "cell_type": "markdown",
      "source": [
        "The required Python libraries are installed with these scripts. For NLP applications, transformers and sentence_transformers offer pre-trained models; for effective similarity search in big datasets, faiss is utilised. Pandas is utilised for data manipulation. Depending on the hardware that is available, faiss-gpu or faiss-cpu should be used, with the former optimising for performance in GPU-equipped situations."
      ],
      "metadata": {
        "id": "v12q34TmUVl6"
      }
    },
    {
      "cell_type": "code",
      "source": [
        "import torch # PyTorch for handling deep learning tasks\n",
        "from transformers import AutoTokenizer, AutoModel, GPT2LMHeadModel, GPT2Tokenizer # For generating text\n",
        "import faiss # For efficient nearest neighbor search\n",
        "import numpy as np\n",
        "import pandas as pd\n",
        "import json # For saving and loading data in JSON format\n",
        "from sentence_transformers import SentenceTransformer # For text embeddings"
      ],
      "metadata": {
        "id": "j7AN9M63mUZl"
      },
      "execution_count": null,
      "outputs": []
    },
    {
      "cell_type": "markdown",
      "source": [
        "#2. Data Loading and Preprocessing"
      ],
      "metadata": {
        "id": "MWzohudpnp3X"
      }
    },
    {
      "cell_type": "code",
      "source": [
        "# Load the dataset file\n",
        "df = pd.read_csv(\"https://raw.githubusercontent.com/Namitt/RAG-System-for-Mumbai-Local-Travel/main/Mumbai%20Local%20Train%20Dataset.csv\")\n",
        "\n",
        "# Fill missing descriptions with empty string\n",
        "df['Nearby attractions'] = df['Nearby attractions'].fillna('')\n",
        "df['About'] = df['About'].fillna('')\n",
        "\n",
        "# Combine \"About\" and \"Nearby attractions\" columns\n",
        "df['combined_text'] = df['About'] + \" \" + df['Nearby attractions']"
      ],
      "metadata": {
        "id": "0fsG223Ell1C"
      },
      "execution_count": null,
      "outputs": []
    },
    {
      "cell_type": "markdown",
      "source": [
        "The main dataset is made up of data from local railway stations in Mumbai that was obtained from a CSV file. Since it provides the foundation for text chunking and subsequent embedding, this data is essential.\n",
        "\n",
        "When handling data, pandas guarantees effective preparation and manipulation. The fillna('') function fills in the missing values that might cause processing issues while chunking text."
      ],
      "metadata": {
        "id": "-gHnk4Eanuo1"
      }
    },
    {
      "cell_type": "markdown",
      "source": [
        "#3. Text Chunking"
      ],
      "metadata": {
        "id": "DD7rvO9Lnx3K"
      }
    },
    {
      "cell_type": "code",
      "source": [
        "# Function to split text into chunks\n",
        "def chunk_text(text, chunk_size=512, overlap=50):\n",
        "    words = text.split()\n",
        "    chunks = []\n",
        "    for i in range(0, len(words), chunk_size - overlap):\n",
        "        chunks.append(\" \".join(words[i:i + chunk_size]))\n",
        "    return chunks\n",
        "\n",
        "# Chunk the combined text\n",
        "df['chunked_combined_text'] = df['combined_text'].apply(lambda x: chunk_text(x))\n",
        "chunks = [item for sublist in df['chunked_combined_text'].tolist() for item in sublist]"
      ],
      "metadata": {
        "id": "GMxrQOFbmfEG"
      },
      "execution_count": null,
      "outputs": []
    },
    {
      "cell_type": "markdown",
      "source": [
        "In order to comply with the embedding model's constraints on input size, descriptions are segmented into more manageable segments, each containing 512 characters.\n",
        "\n",
        "By guaranteeing that no one input surpasses the maximum token limit and maintaining context without overloading the model, churning text into smaller bits facilitates better handling by the embedding model."
      ],
      "metadata": {
        "id": "Pd74RdtUn8bH"
      }
    },
    {
      "cell_type": "markdown",
      "source": [
        "#4.  Loading Embeddings from JSON"
      ],
      "metadata": {
        "id": "h69xED7EoBOk"
      }
    },
    {
      "cell_type": "code",
      "source": [
        "# Load the SentenceTransformer model\n",
        "model = SentenceTransformer('all-MiniLM-L6-v2')\n",
        "\n",
        "# Embed the text chunks and convert to numpy for compatibility with FAISS\n",
        "embeddings = np.vstack([model.encode(chunk, convert_to_tensor=True).cpu().detach().numpy() for chunk in chunks])\n",
        "\n",
        "# Save embeddings to JSON for later retrieval\n",
        "with open('embeddings.json', 'w') as f:\n",
        "    json.dump(embeddings.tolist(), f)"
      ],
      "metadata": {
        "colab": {
          "base_uri": "https://localhost:8080/"
        },
        "id": "wd63aJdln3cg",
        "outputId": "20c0a6bb-74fc-49d6-ebbf-ea4c5fb8ebfa"
      },
      "execution_count": null,
      "outputs": [
        {
          "output_type": "stream",
          "name": "stderr",
          "text": [
            "/usr/local/lib/python3.10/dist-packages/huggingface_hub/file_download.py:1132: FutureWarning: `resume_download` is deprecated and will be removed in version 1.0.0. Downloads always resume when possible. If you want to force a new download, use `force_download=True`.\n",
            "  warnings.warn(\n"
          ]
        }
      ]
    },
    {
      "cell_type": "markdown",
      "source": [
        "Sentence Transformer model 'all-MiniLM-L6-v2' is used to embed each text chunk, converting textual data into a high-dimensional vector space.\n",
        "\n",
        "\n",
        "The selection of 'all-MiniLM-L6-v2' strikes a compromise between computational efficiency and performance, rendering it appropriate for producing embeddings with semantic significance."
      ],
      "metadata": {
        "id": "M4YWvyLRoNMB"
      }
    },
    {
      "cell_type": "markdown",
      "source": [
        "#5. Setup FAISS for Efficient Similarity Search / Creating and Training a FAISS Index"
      ],
      "metadata": {
        "id": "GTq6fb6roSW6"
      }
    },
    {
      "cell_type": "code",
      "source": [
        "# Load embeddings from JSON and ensure they are in the correct format\n",
        "with open('embeddings.json', 'r') as f:\n",
        "    embeddings = np.array(json.load(f), dtype='float32')\n",
        "\n",
        "# Ensure the embeddings array is C-contiguous as expected by FAISS\n",
        "embeddings = np.ascontiguousarray(embeddings)\n",
        "\n",
        "# Create and train a FAISS index\n",
        "index = faiss.IndexFlatL2(embeddings.shape[1])\n",
        "\n",
        "# Normalize embeddings to unit length before adding them to the index\n",
        "faiss.normalize_L2(embeddings)\n",
        "index.add(embeddings)  # Add normalized embeddings to the index for searching"
      ],
      "metadata": {
        "id": "XUz3zZi1oFym"
      },
      "execution_count": null,
      "outputs": []
    },
    {
      "cell_type": "markdown",
      "source": [
        "Finding the most pertinent text chunks to get in answer to a query requires a fast solution for closest neighbour searches, which FAISS offers in big datasets.\n",
        "\n",
        "**1. dtype='float32', embeddings = np.array(json.load(f))** - Pre-computed embeddings are loaded from a JSON file by this code, which then transforms them into a NumPy array of the specified data type (float32). This is an important step since it makes embeddings reusable, eliminating the need to recompute them every time the script executes. By ensuring that the data is in a format that is compatible with FAISS, using float32 maximises computational effectiveness and memory utilisation.\n",
        "\n",
        "**2. embeddings = np.ascontiguousarray(embeddings)** - The input data for FAISS must be in a C-contiguous format. This indicates that the data is kept in a row-major order contiguous block of memory, which is essential for the smooth operation of the library's internal processes. Making sure the data is C-contiguous improves indexing and searching efficiency and helps prevent runtime issues.\n",
        "\n",
        " **3. index = faiss.IndexFlatL2(embeddings.shape[1])** - In many closest neighbour search applications, L2 (Euclidean) distance computations are frequent, and this step initialises an FAISS index expressly for those purposes. When searching exhaustively is feasible, the IndexFlatL2 method is a straightforward and effective method appropriate for smaller datasets. This index type was selected due to its ease of use and efficiency for ordinary nearest neighbour searches.\n",
        "\n",
        "**4. faiss.normalize_L2(embeddings)** - For many machine learning applications, particularly those that include distance computations, it is sometimes required to normalise the embeddings to unit length, which sets each vector's norm equal to 1. By concentrating just on the angle between vectors, normalisation makes sure that the similarity between them is unaffected by their magnitude. By taking this action, the nearest neighbour search becomes more accurate and resilient.\n",
        "\n",
        "**5. index.add(embeddings)**- The normalised embeddings are added to the previously constructed FAISS index in this last phase. The index must be populated in order to provide effective similarity searches. The index may be utilised for querying once the embeddings have been inserted, which enables the system to locate the closest neighbours for any given input query rapidly."
      ],
      "metadata": {
        "id": "IXUjTwntoFYW"
      }
    },
    {
      "cell_type": "markdown",
      "source": [
        "#6. Loading GPT-2 for Text Generation"
      ],
      "metadata": {
        "id": "9YwbQwmZoaM0"
      }
    },
    {
      "cell_type": "code",
      "source": [
        "# Load pre-trained GPT-2 model and tokenizer\n",
        "tokenizer = GPT2Tokenizer.from_pretrained('gpt2')\n",
        "tokenizer.pad_token = tokenizer.eos_token  # Set padding token to end of sequence token\n",
        "gpt_model = GPT2LMHeadModel.from_pretrained('gpt2')"
      ],
      "metadata": {
        "id": "DO50JRSDmn0k"
      },
      "execution_count": null,
      "outputs": []
    },
    {
      "cell_type": "markdown",
      "source": [
        "Because GPT-2 is well known for producing language that resembles that of a person, it is perfect for producing replies that call for a profound comprehension of subtleties and context."
      ],
      "metadata": {
        "id": "iDB-fmN6om9_"
      }
    },
    {
      "cell_type": "markdown",
      "source": [
        "#7. Functions for Query Encoding and Text Generation"
      ],
      "metadata": {
        "id": "e9jeTLu6o65l"
      }
    },
    {
      "cell_type": "code",
      "source": [
        "# Function to encode queries using the same model as for embedding chunks\n",
        "def encode_query(query):\n",
        "    return model.encode([query], convert_to_tensor=True).cpu().detach().numpy()"
      ],
      "metadata": {
        "id": "8SwlKVKkoiTH"
      },
      "execution_count": null,
      "outputs": []
    },
    {
      "cell_type": "markdown",
      "source": [
        "This function uses the Sentence Transformer paradigm to transform a textual query into a numerical vector. Similar text chunks in the dataset may be found by using the vector, which provides the semantic embedding of the query.\n",
        "\n",
        "Sentence Transformers are essential in this situation since they are made expressly to produce meaningful sentence embeddings. Compatibility and efficiency in the ensuing search process in FAISS are guaranteed by converting the query into a tensor and then releasing it from the current computing device (e.g., switching from GPU to CPU)."
      ],
      "metadata": {
        "id": "AJs05rxqpD70"
      }
    },
    {
      "cell_type": "markdown",
      "source": [
        "#8.  Retrieving and Generating Text"
      ],
      "metadata": {
        "id": "GQQwucS8pJIn"
      }
    },
    {
      "cell_type": "code",
      "source": [
        "# Function to perform text retrieval and generate response based on the context\n",
        "def search_and_generate(query, top_k=1):\n",
        "    query_embedding = encode_query(query)\n",
        "    D, I = index.search(query_embedding, k=top_k)\n",
        "    retrieved_info = \" \".join([chunks[i] for i in I[0]])\n",
        "\n",
        "    prompt = f\"Query: {query}\\n\\nPlease reflect on the following extract and elaborate:\\n\\n'{retrieved_info}'\"\n",
        "    inputs = tokenizer(prompt, return_tensors='pt')\n",
        "    outputs = gpt_model.generate(\n",
        "        inputs['input_ids'],\n",
        "        max_length=1024,\n",
        "        no_repeat_ngram_size=2,\n",
        "        num_return_sequences=1,\n",
        "        top_p=0.92,\n",
        "        temperature=0.85,\n",
        "        repetition_penalty=1.2\n",
        "    )\n",
        "    response = tokenizer.decode(outputs[0], skip_special_tokens=True)\n",
        "    return response"
      ],
      "metadata": {
        "id": "JRAQYFt4pC5I"
      },
      "execution_count": null,
      "outputs": []
    },
    {
      "cell_type": "markdown",
      "source": [
        "The essential functions of the RAG system are contained in this function. Based on the query's embedding, it first extracts the most pertinent text chunks, and then it utilises these pieces as context to provide a text answer using GPT-2.\n",
        "\n",
        "\n",
        "**FAISS Search**: Because the FAISS library finds the most relevant text chunks that fit the query embedding rapidly, it is utilised for closest neighbour searches.\n",
        "\n",
        "**Text Generation** :Using GPT-2: Using GPT-2's sophisticated language modelling skills to generate replies enables the creation of text that is both logical and suitable for the given context. In order to provide a variety of believable answers, the generation function's parameters (such as temperature, top_p, no_repeat_ngram_size, and repetition_penalty) are carefully calibrated to strike a compromise between inventiveness and relevance and coherence.\n",
        "\n",
        "**Prompt Design**: In order to guarantee that the output is pertinent to the query, the prompt structure plays a critical role in directing the model's generation towards reflecting on the obtained text."
      ],
      "metadata": {
        "id": "KSlQplDUpRQO"
      }
    },
    {
      "cell_type": "markdown",
      "source": [
        "#9. Testing the System"
      ],
      "metadata": {
        "id": "uzTzhjLspSwh"
      }
    },
    {
      "cell_type": "code",
      "source": [
        "# Testing the integrated pipeline\n",
        "test_queries = [\n",
        "    \"Tell me about and what can I visit near Vasai Road?\",\n",
        "    \"Tell me about the history and attractions near Dadar\",\n",
        "    \"What is the significance of Thane station?\",\n",
        "    \"Provide details about the facilities available at Dadar station.\",\n",
        "    \"What makes Churchgate station unique?\",\n",
        "    \"Give me some information about the development of Borivali station.\",\n",
        "    \"What are the key features of Bandra station?\",\n",
        "    \"Describe the connectivity of Kasara station.\",\n",
        "    \"What express trains stop at Mumbai Central station?\",\n",
        "    \"How has the CST station evolved over the years?\"\n",
        "]\n",
        "\n",
        "# Function to run test queries and print results\n",
        "def run_test_queries(queries):\n",
        "    for query in queries:\n",
        "        result = search_and_generate(query, top_k=1)\n",
        "        print(f\"Query: {query}\\nGenerated Response: {result}\\n{'-'*60}\\n\")\n",
        "\n",
        "# Running the test queries\n",
        "run_test_queries(test_queries)"
      ],
      "metadata": {
        "colab": {
          "base_uri": "https://localhost:8080/"
        },
        "id": "ybeX_pDOpOhR",
        "outputId": "f56b50de-ca8d-4df7-c280-e937cd3d1782"
      },
      "execution_count": null,
      "outputs": [
        {
          "output_type": "stream",
          "name": "stderr",
          "text": [
            "/usr/local/lib/python3.10/dist-packages/transformers/generation/configuration_utils.py:515: UserWarning: `do_sample` is set to `False`. However, `temperature` is set to `0.85` -- this flag is only used in sample-based generation modes. You should set `do_sample=True` or unset `temperature`.\n",
            "  warnings.warn(\n",
            "/usr/local/lib/python3.10/dist-packages/transformers/generation/configuration_utils.py:520: UserWarning: `do_sample` is set to `False`. However, `top_p` is set to `0.92` -- this flag is only used in sample-based generation modes. You should set `do_sample=True` or unset `top_p`.\n",
            "  warnings.warn(\n",
            "The attention mask and the pad token id were not set. As a consequence, you may observe unexpected behavior. Please pass your input's `attention_mask` to obtain reliable results.\n",
            "Setting `pad_token_id` to `eos_token_id`:50256 for open-end generation.\n",
            "The attention mask and the pad token id were not set. As a consequence, you may observe unexpected behavior. Please pass your input's `attention_mask` to obtain reliable results.\n",
            "Setting `pad_token_id` to `eos_token_id`:50256 for open-end generation.\n"
          ]
        },
        {
          "output_type": "stream",
          "name": "stdout",
          "text": [
            "Query: Tell me about and what can I visit near Vasai Road?\n",
            "Generated Response: Query: Tell me about and what can I visit near Vasai Road?\n",
            "\n",
            "Please reflect on the following extract and elaborate:\n",
            "\n",
            "'Vasai Road Junction (station code: BSR) is a railway station on the Western line and Vasai Road–Roha line of the Mumbai Suburban Railway network. Vasai is a historical suburban town north of Mumbai and it is located in Palghar district. It is a much modern part of Vasai Taluka. It is a part of the new Vasai-Virar city. It is a major railway station which bypasses Mumbai and connects the trains coming from Vadodara to Konkan Railway and Pune Junction railway station and further towards cities of Bengaluru and Hyderabad History The station was formerly known as Bassein Road (Bassein being Vasai's Portuguese name). This is the reason why the station code is BSR standing for the original BaSsein Rd. It is an historic station, for it was the terminus of the first local service of the erstwhile BB&CI railway (today's Western Railway), when it started two coach services between Grant Rd and Bassein Rd on 1 November 1865,[1] 1.5 years before the commencement of a regular service from Backbay to Viraur (Virar) in April 1867. Station layout Seven of the eight platforms at Vasai Road are laid out side by side. Platform 1 at Vasai Road is constructed approximately 500 meters south of platform 2, similar to platform 2 and 3 at Borivali. Vasai Road is an important cross over point between Western and Central railways in Mumbai, as trains from Konkan region and Pune cross over to the Western line here. Platforms 2–5 handle the local trains in the up & down directions. Platform 4,5,6 and 7 handle outstation trains that have a halt at Vasai Road. They also handle two Rajdhani Express trains. 1. 12431/12432 Thiruvananthapuram Rajdhani Express 2. 22413/22414 Madgaon Rajdhani Express Also, it handles Humsafar Express, Duronto Express, Sampark Kranti Express trains from Kerala side towards Delhi. Platform 1 is a dedicated platform to handle local trains that start/terminate at Vasai Road. Also platform 6 and 7 holds freight train for going towards Diva. The recent developments at Vasai railway station is the inclusion of elevator and lifts on the old as well as the new footover bridges. Currently, The Western Railway is planning to build a new outstation train terminus. The new terminus, set to come up by 2023, will also ease the present bottleneck at Vasai Road station. The project plan received a boost when Union railway minister Piyush Goyal on August 23, 2018 announced exploring the feasibility of a new main line terminal at Vasai Road. Vasai Fort,Tungareshwar Wildlife Sanctuary,Suruchi Beach'n Park - A large area has been designated 'The Suruga Forest'. In this forest there were many species such Aspergillus spp., Cercopithecus cuniculus, Anopheles gambiae, Eurythmophilus bifidae, Lactobacillium lupinus, Drosostrea sp.) including some endemic plants like Sclerotia dulcis [2]. There had already been several attempts made with various types but none succeeded due mainly because they did not meet any criteria or requirements.[3][4],[7],[8]). However, after careful consideration we decided to develop our own design based upon these considerations so far; namely using natural light sources instead thereof while maintaining high visibility through all angles along roadways leading to both sides of roads where possible without obstructions whatsoever! We hope you enjoy your stay inside Visakhawatnam National Parks today!!\n",
            "------------------------------------------------------------\n",
            "\n"
          ]
        },
        {
          "output_type": "stream",
          "name": "stderr",
          "text": [
            "The attention mask and the pad token id were not set. As a consequence, you may observe unexpected behavior. Please pass your input's `attention_mask` to obtain reliable results.\n",
            "Setting `pad_token_id` to `eos_token_id`:50256 for open-end generation.\n"
          ]
        },
        {
          "output_type": "stream",
          "name": "stdout",
          "text": [
            "Query: Tell me about the history and attractions near Dadar\n",
            "Generated Response: Query: Tell me about the history and attractions near Dadar\n",
            "\n",
            "Please reflect on the following extract and elaborate:\n",
            "\n",
            "'and opened on 1968.[13] During the Indo-Pakistan War of 1971 a Jawan Canteen was established in the station to serve Indian soldiers. The Canteen was conducted by Wadala Junior Chambers (Founder- Gangaram Joshi), under the guidance of Nanik Rupani, who was the President at that time.[14][15] After decades, In 2009 The Midtown terminus of Dadar Western side was inaugurated for increasing more trains on the suburban route and long-distance route for decreasing a load of passengers.[16] And the side elevated road which is parallel to Midtown Terminus connects to Tilak Bridge for direct taxi's and another vehicle's movement, was inaugurated in 2014. The Cost for construction was?30 crore (US$3.8 million).[17] Shivaji Park,Siddhivinayak Temple,Dadar Flower Market'\n",
            "\n",
            "\n",
            "------------------------------------------------------------\n",
            "\n"
          ]
        },
        {
          "output_type": "stream",
          "name": "stderr",
          "text": [
            "The attention mask and the pad token id were not set. As a consequence, you may observe unexpected behavior. Please pass your input's `attention_mask` to obtain reliable results.\n",
            "Setting `pad_token_id` to `eos_token_id`:50256 for open-end generation.\n"
          ]
        },
        {
          "output_type": "stream",
          "name": "stdout",
          "text": [
            "Query: What is the significance of Thane station?\n",
            "Generated Response: Query: What is the significance of Thane station?\n",
            "\n",
            "Please reflect on the following extract and elaborate:\n",
            "\n",
            "'Thane (formerly Thana, station code: TNA) is an A1 category major railway station of the Indian Railways serving the city of Thane, Located in Maharashtra, it is one of the busiest railway stations in India. As of 2013, Thane railway station handles 260000 people daily. More than 1,000 trains visit the station each day, including 330+ long-distance trains.[1] The station has ten platforms. It is the origin and destination station of all the trans-harbour suburban trains. Thane is India's first passenger railway Station along with Bori Bunder Railway Station. History Thane railway station was the terminus for the first ever passenger train in India. On 16 April 1853, the first passenger train service was inaugurated from Bori Bunder (now renamed Chhatrapati Shivaji Maharaj Terminus), Mumbai to Thane.[2] Covering a distance of 34 kilometres (21 mi), it was hauled by three locomotives: Sahib, Sindh, and Sultan, and carried around 400 passengers. The First Trial Train Journey About five months before this inaugural journey, a trial run was conducted from near Bori Bunder to the Parsick (Parsik) Point in Tannah (now Thane). This journey started on the noon of 18th November 1852, soon after 12 p.m, with the Directors, Engineers of the GIP Railway (the company that built the line), along with their friends.The train was pulled by Bombay's first steam locomotive, Lord Falkland, with temporarily arranged 'trucks' as rail carriages, since the three Locomotives and the coaches for the company had not yet been made ready (since they arrived just 2 months ago in September 1852). The party was planned to reach their destination at Parsik Point at about 1 p.m., have their tiffin inside the 100 yard tunnel there, and return back to Bombay by sunset, reports the Allen's Indian Mail, 1852.[3] The Official Journey The scene during the official journey in April 1853 was even extravagant. The 14 coach train, carrying in all 400 passengers, started its journey at the Bori Bunder Station, where there grand celebrations, with a decorated platform, arriving invitees, playing band, among other others. At Thane, the case was no different. When the train finally approached Thana, people crowded thickly on the sides for more than a mile, and had to be kept in control by the Ghat police, On the arrival, the passengers were welcomed by large erected tents, under which they would have their food, and no demands overlooked. There were also speeches, delivered by the present gentlemen. Among the speakers, was the Chief Engineer of the GIP Railway, James.J.Berkeley. He gave a elaborate speech, notably also mentioning the work of the native laborers, saying they exceeded expectations, and also the commanding officers of the native troops, for their endurance, discipline, and docility. Upvan Lake,Talao Pali,Tikuji-ni-Wadi Water Park',and many thousands of tourists visited these magnificent places every year; but only two or 3 million visitors came through them alone! In fact, over half of those who did come here went away without any problems whatsoever - most visiting tourist attractions are located within 10 km radius of Phuket Town Hall. But what happened next shocked us greatly... After some time passed we found ourselves surrounded by hundreds upon tens -- perhaps millions of Indians living outside our borders.... We could see nothing except trees growing outwards like leaves falling down into rivers below... And then suddenly something strange occurred--a sudden change began happening between me and my companions when I saw how much water flowed up above [sic] thine feet.\"[4][5].\n",
            "\n",
            "\n",
            "------------------------------------------------------------\n",
            "\n"
          ]
        },
        {
          "output_type": "stream",
          "name": "stderr",
          "text": [
            "The attention mask and the pad token id were not set. As a consequence, you may observe unexpected behavior. Please pass your input's `attention_mask` to obtain reliable results.\n",
            "Setting `pad_token_id` to `eos_token_id`:50256 for open-end generation.\n"
          ]
        },
        {
          "output_type": "stream",
          "name": "stdout",
          "text": [
            "Query: Provide details about the facilities available at Dadar station.\n",
            "Generated Response: Query: Provide details about the facilities available at Dadar station.\n",
            "\n",
            "Please reflect on the following extract and elaborate:\n",
            "\n",
            "'Dadar railway station is one of the major interchange railway stations of Mumbai Suburban Railway. It serves the Dadar area in Mumbai, India. This railway station lies on both the Central line named as Dadar Central with station code DR and Western line named as Dadar Western with station code DDR. It's also a terminal for Mumbai Suburban Railway as well as Indian Railways.[1] Two roads are passes through parallel in the vicinity of Dadar railway station which is Senapati Bapat Marg on the Westside and Lakhamsi Nappu Road on the Eastside. Structure Dadar railway station has 15 platforms, In that, 7 platforms consist of the Western side which is two platforms of the slow suburban route, three platforms of the fast suburban route and the last two platforms are the terminus of the Suburban and Long Distance trains which are also known as Dadar Midtown Terminus.[2][3] The remaining 8 platforms consist of the Central line, which is of three platforms on the slow suburban route with middle-slow suburban terminal, three platforms are on the fast suburban route with middle-fast suburban terminal, and the last two platforms are the terminus of long-distance trains which is also known as Dadar Central Terminus or Dadar Terminus. This railway station is well connected with multiple walkways and bridges for easier access of passengers crossing on both sides.[4] And also there are multiple Escalators available on both the sides for help in interchanging stations, which were Inaugurated on 1 November 2013 on the Western line side by Western Railway[5] And the remaining escalators were inaugurated on 21 January 2018 on the Central line side by Central Railway.[6] Passengers Dadar is the busiest railway station on the Mumbai Suburban Railway network with an average of 211,888 passengers begins their journey from this station per day contributing?1,059,440 (US$13,000) of average daily revenue.[7] In October 2012, CR announced plans to cease long-distance train services terminating at Dadar on the Central side within 5–6 years. The load would be transferred to Lokmanya Tilak Terminus (LTT) by upgrading the number of platforms at LTT from five to 12.[8] Operations Dadar railway station handles a total of 88 long-distance trains. In which 12 trains are on the Western line side in which 3 long-distance trains originate and terminate at Midtown Terminus and 9 long-distance trains halt at the fast suburban route of Western line.[9][10] Whereas, 76 trains are on the Central line side in which 11 long-distance trains originate and terminate at Central Terminus and 65 long-distance trains halt at the fast suburban route of Central line.[11] History Dadar railway station was inaugurated in the year 1868 for direct connectivity on both sides of Central Railway and Western Railway network.[12] After that the Central Terminus on Central line side was constructed and opened on 1968.[13] During the Indo-Pakistan War of 1971 a Jawan Canteen was established in the station to serve Indian soldiers. The Canteen was conducted by Wadala Junior Chambers (Founder- Gangaram Joshi), under the guidance of Nanik Rupani, who was the President at that time.[14][15] After decades, In 2009's government decided to build new railways along its lines between Delhi & New York City using existing infrastructure such Asli Expressway Line 2/A(B)(C). However, it did not have any capacity till 2014 when construction began due mainly because Ofc., where all other railroads had been built before then,[16]. On December 31st 2015 At least 6 additional tracks will connect Tolepiagarh Metro Station via Mysore metro system connecting TOLEPIARH MARITIME LINE 4 / A.(D)-MYSORE METRO SYSTEMS AND BROADWAY STATION ON THE NEW YORK CITY GOVERNMENT AREAS IN JANUARY 2017 - 2019\n",
            "------------------------------------------------------------\n",
            "\n"
          ]
        },
        {
          "output_type": "stream",
          "name": "stderr",
          "text": [
            "The attention mask and the pad token id were not set. As a consequence, you may observe unexpected behavior. Please pass your input's `attention_mask` to obtain reliable results.\n",
            "Setting `pad_token_id` to `eos_token_id`:50256 for open-end generation.\n"
          ]
        },
        {
          "output_type": "stream",
          "name": "stdout",
          "text": [
            "Query: What makes Churchgate station unique?\n",
            "Generated Response: Query: What makes Churchgate station unique?\n",
            "\n",
            "Please reflect on the following extract and elaborate:\n",
            "\n",
            "'The Fort area built by the British had three main gates.[1] One of these gates led straight to Saint Thomas Cathedral Church, hence it was named \"Church Gate\". This gate was demolished in 1860. Later the Churchgate railway station was built in 1870 in close proximity to the position of the demolished gate.[2] Churchgate station is a terminus of Western Railway line of Mumbai suburban railway. It is the southernmost station of the city, though up to the 1931, Colaba was the southernmost station, however the rail line was removed beyond Churchgate, making Churchgate the southernmost station.[3][4] The Bombay, Baroda and Central India Railway (present Western Railway) was inaugurated in 1855 with the construction of rail line (BG) between Ankleshwar and Uttaran (a distance of 29 miles). In 1859 this line was further extended on the west coast up to Bombay. By 1867, a track along the foreshore, further than Grant Road station was constructed, up to the station named as \"Bombay Backbay\" near Marine Lines. On 12 April 1867, the first suburban train was started with one train each way from Virar to Bombay Back Bay. The stations were then named, \"Viraur, Neela, Bassein, Panje, Borewla, Pahadee, Andaru, Santa Cruz, Bandora, Mahim, Dadur, Grant Road and Bombay Backbay\". In year 1870, Churchgate was first time mentioned as the station. The line further extended towards Colaba in 1872, and goods shed was built there. In year 1896, a brand new station was established at Colaba to serve as terminus for both passenger and suburban lines. The Government of Bombay issued order to the railway to hand over the section of rail line between Churchgate and Colaba. Therefore, Bombay Central (Mumbai Central), a new station was constructed near Bellasis Bridge, which was opened on 18 December 1930. From the midnight of 31 December, Colaba, ceased to be a terminus.[2] Presently, this station is home to the Western Railway headquarters. The older Western Railway headquarters is across the road. Today, the station is one of the busiest stations in the city. Trains arrive and depart every minute with clockwork precision. Millions of city dwellers residing in the suburbs alight at this station to get to their offices in the business districts of south Mumbai. The total cost of reconstruction of Churchgate Station was INR 12.8 million approximately, which includes remodelling of the yard, construction of platforms, station premises and offices[5] Churchgate Railway Station sign The station is the terminus for local trains on Western Railways. The earliest train departs at 4:15 for Virar, and the last train at 1:00 towards Borivali. Till 2010, the station had platforms which could accommodate 9 and 12 coach trains. But with the introduction of 15-coach trains there was a need to extend the length of the platform. Hence in Dec 2010 work began on extension of the platforms to accommodate the 15-coach trains.[6] On 28 June 2015 a train derailed after crashing into the end of the platform after not stopping in time. Five people were injured.[7] Marine Drive,Nariman Point,Flora Fountain'n Park & Marina are also known as 'Marine Drive'. A large number have been killed during accidents due mainly because they cannot reach other parts or can't pass through them without being stopped within 10 minutes! There has been an increase since 2000 when more cars used marine drive vehicles but now only about 20% use commercial motorized traffic such that no accident occurs while using sea lanes like those found today [see below]. As well many others who live outside our boundaries do so under conditions where we don´t even know what's going around us; therefore some areas may become dangerous if you try to cross any part off your map before crossing out onto shoreline just above water level - see here. If someone tries trying go ashore too far away please call police immediately instead...\n",
            "\n",
            " (click image to enlarge):\n",
            "------------------------------------------------------------\n",
            "\n"
          ]
        },
        {
          "output_type": "stream",
          "name": "stderr",
          "text": [
            "The attention mask and the pad token id were not set. As a consequence, you may observe unexpected behavior. Please pass your input's `attention_mask` to obtain reliable results.\n",
            "Setting `pad_token_id` to `eos_token_id`:50256 for open-end generation.\n"
          ]
        },
        {
          "output_type": "stream",
          "name": "stdout",
          "text": [
            "Query: Give me some information about the development of Borivali station.\n",
            "Generated Response: Query: Give me some information about the development of Borivali station.\n",
            "\n",
            "Please reflect on the following extract and elaborate:\n",
            "\n",
            "'Borivali (station code: BO (suburban)/BVI (mainline)) is a railway station on the Western line of the Mumbai Suburban Railway network and an outbound station. It serves the suburban of Borivali. The Borivali Railway Station[2] is a terminus for all slow, semi-fast and fast trains on the Mumbai Suburban Railway system. It also serves as the final city-limit stop for all mail and express trains on Western Railway before leaving Mumbai. As of Oct 2022, the plans to extend the Harbour Line to Borivali, and expansion plans are in full steam, with the survey for land acquisition being completed. [3] Borivali is used by almost 2.87 lakhs (287,000) passengers every day and is the busiest station on the western suburban line of Mumbai. The number of passengers using Borivali is much higher compared to other stations because many commuters from adjoining stations go there to catch a train as it is impossible to board a local train from stations such as Dahisar, Kandivali or Malad.[citation needed] History Borivali is mentioned as one of the stations where the first regular suburban train service of BB&CI halted. Then, it was known as 'Berewla'.[4] This train service was inaugurated between Bombay Backbay station and Viraur on April 12, 1867.[5] The Station was remodeled in 1913. The remodeling diagrams of the station were published in a BB&CI Magazine dated Dec 1923. The Magazine (see pg 6, 11) 1913 Remodeling of Borivali In the Diagrams, the original layout of the station (before 1913 remodeling) shows a two platform station, each platform on the west and east. In the diagram, the one on the west is labelled 'Down Platform' while the east one has an un-understandable label, resembling 'Up or UD'. Between them were the Up and Down main lines. Another separate line was located to the East of the Down Platform. The station appears to have at least one siding, to the North of the Down Platform. The station also had two cabins, named 'Cabin A' and 'Cabin B', located on the east of the main lines. The original layout of Borivali Station, prior to the 1913 remodeling. The Revised Layout shows some improvements made; notably, the addition of a new siding line, and the categorization of the Eastern platform as an Island platform. The Siding Line on the west was shifted closer to the down platform, just as the B Cabin was shifted closer to the new Island platform. The number of Track Change points was also increased. (For the diagrams, visit the above Pdf) Platforms For the convenience of the passengers Western Railway has decided to change the platform numbers of Borivali station. The platforms have now been numbered from west to east to maintain uniformity. Changes will be effective from 4 June 2017.[6] As of July 2011, there are 9 platforms at the station and as of 4 June 2017 after renumbering of platform number the trains that these platforms handle are as follows: 1st - Caters to Churchgate bound trains 2nd - Caters to Churchgate bound trains 3rd - Caters to both Churchgate bound' & church gate's 5th/7 th Stations All 7 seats except those which can accommodate up to 8 people per seat but only if they meet minimum requirements including age limit etc., please contact us via email below!\n",
            "------------------------------------------------------------\n",
            "\n"
          ]
        },
        {
          "output_type": "stream",
          "name": "stderr",
          "text": [
            "The attention mask and the pad token id were not set. As a consequence, you may observe unexpected behavior. Please pass your input's `attention_mask` to obtain reliable results.\n",
            "Setting `pad_token_id` to `eos_token_id`:50256 for open-end generation.\n"
          ]
        },
        {
          "output_type": "stream",
          "name": "stdout",
          "text": [
            "Query: What are the key features of Bandra station?\n",
            "Generated Response: Query: What are the key features of Bandra station?\n",
            "\n",
            "Please reflect on the following extract and elaborate:\n",
            "\n",
            "'Bandra (/bæ?ndra/; station code: B for Suburban services and BA for Indian Railways) is a railway station on the Western Line and Harbour Line of the Mumbai Suburban Railway network. It serves the Bandra suburban area and the commercial area of Bandra-Kurla Complex (BKC). Bandra Terminus is near to Bandra railway station and serves interstate traffic on the Western Railway. The station is a Grade-I heritage structure. The other 4 railway stations on Mumbai's heritage list include Chhatrapati Shivaji Maharaj Terminus, Western Railways Headquarters Building (Churchgate), Byculla railway station and Reay Road railway station.[2] All fast and slow commuter trains have a halt at this station. Bandra is also directly connected to Chhatrapati Shivaji Terminus through Harbour Line via Vadala Road. BEST buses are also available from Bandra Terminus bus stand or Bandra (West) bus stand; both being very close to the railway station. Auto rickshaws are also available. History Three buildings were completed in February 1867 for the BB&CI railway at Bandora. They were to accommodate the slaughterhouse designed by the then Municipal Engineer, Russel Aitkens. These were located nearly 100 yds South-West of Bandra station.[3] In fact, Bandora station (today's Bandra station) is mentioned as one of the stations where the first Regular Suburban rail service (commenced on 12 April 1867) halted.[4] A meat train was commenced by the BB&CI railway, but it was discontinued in January 1879. In 1888, it had two platforms.[3] The main building adjoining the platform no.1 was too completed that year.[5] By 1873, out of the 24 locals that ran daily, 8 halted at Bandra. By 1892, there were 27 Bandra locals, and by 1900, there were 29 Bandra locals. After the remodeling schemes of Borivali and Virar stations, attention was given for a hump shunting yard at Bandra, due to the inadequacy of goods accommodations at Dadar Junction, Carnac Bridge Goods yard, and Grant Rd goods yard. After the opening of the Mahim link between BB&CI and Bombay port trust railway, the location of the yard was finally determined, and it was set up in 1916. Tracks were Quadrupled between Mahim and Bandra in late 1910s. The section was opened for Goods traffic in May 1917, and for Passenger traffic in October 1920. A BB&CI magazine from December 1923 (from which the above information was procured) states that remodeling schemes for the remaining terminal stations i.e., Bandra and Andheri, were under preparation at that time.[4] Bandstand Promenade,Mount Mary Church,Carter Road Promenade'A new bridge over Baroda road has been constructed along its length with an extension extending down into Paragrah river valley below ground level.(The original plan called 'Paragarat')was built around 1790(the date when construction began.) This project included three major improvements:- 1st - improved accessway leading towards Bhavnath temple site 2nd – elevated walk track 3rd -- added parking lot & entrance ramp across street 5th — additional curb ramps 6th...and so forth...[6][7]. As per official records, these changes took place during World War II.. [8], see here.\n",
            "\n",
            " In addition,, some sections within Kolkata Airport will be closed until further notice after completion of work including :-- \"Sri Raman\" Station ;--- Srinivaswamy Park / Pune airport runway 7 )* * **Tripod Express Bus Terminal** 9a ). To get directions go HERE\n",
            "------------------------------------------------------------\n",
            "\n"
          ]
        },
        {
          "output_type": "stream",
          "name": "stderr",
          "text": [
            "The attention mask and the pad token id were not set. As a consequence, you may observe unexpected behavior. Please pass your input's `attention_mask` to obtain reliable results.\n",
            "Setting `pad_token_id` to `eos_token_id`:50256 for open-end generation.\n"
          ]
        },
        {
          "output_type": "stream",
          "name": "stdout",
          "text": [
            "Query: Describe the connectivity of Kasara station.\n",
            "Generated Response: Query: Describe the connectivity of Kasara station.\n",
            "\n",
            "Please reflect on the following extract and elaborate:\n",
            "\n",
            "'Kasara (station code: KSRA/N for North (local)) is a railway station on the Central line of the Mumbai Suburban Railway network. It is the final stop in the north-east sector of the Central Line. Background Kasara was called Kassarah during the British Raj. For outstation trains, it is a technical halt, where bankers (generally WAG-5 or WAG-7) are attached behind the trains to enable it to cross the tough and high gradient Kasara Ghat. Earlier the station was electrified with a DC 1.5 kV traction system, but on 19 February 2006, it was changed to an AC 25 kV 50 Hz system. Services It takes up to 162 minutes for slow local suburban trains to reach Kasara from Chhatrapati Shivaji Terminus whereas the fast locals take 136 mins.[1] Connections MSRTC BUS and Shared taxis to Nasik Road, Jawahar, Mokhada, Rajur, and Akole are also available from the station. Kasara Ghat,Mahuli Fort,Asangaon Dam'a & Kolkata Station have been designated as 'Sarajan', which means \"the main road connecting Saraiya Nagaland\" by Railways'. The train service between these two stations has increased over time due to improved infrastructure at both sites; however, there were no changes made since then when they became operational.' [2][3]. In addition this article provides information about how railways operate their services across India through various channels including public transport networks such Asiatic Expressway, MetroRail System. This section will cover all aspects related thereto that relate directly into railroads operating within Indian borders without any specialisation being required under Article 5(4)(b) above - namely traffic control systems like ASIACs etc., signalling equipment used along tracks using different types thereof...\n",
            "------------------------------------------------------------\n",
            "\n"
          ]
        },
        {
          "output_type": "stream",
          "name": "stderr",
          "text": [
            "The attention mask and the pad token id were not set. As a consequence, you may observe unexpected behavior. Please pass your input's `attention_mask` to obtain reliable results.\n",
            "Setting `pad_token_id` to `eos_token_id`:50256 for open-end generation.\n"
          ]
        },
        {
          "output_type": "stream",
          "name": "stdout",
          "text": [
            "Query: What express trains stop at Mumbai Central station?\n",
            "Generated Response: Query: What express trains stop at Mumbai Central station?\n",
            "\n",
            "Please reflect on the following extract and elaborate:\n",
            "\n",
            "'Mumbai Central (formerly Bombay Central, station code: MMCT[1]) is a major railway station on the Western line, situated in Mumbai, Maharashtra in an area known by the same name. It serves as a major stop for both Local and Inter-City/Express trains with separate platforms for them. It is also a terminal for several long-distance trains including the Mumbai Rajdhani Express. It is one of the five major Terminal stations in Mumbai while others being Mumbai CST, Mumbai LTT, Mumbai BDTS and Mumbai Dadar. Trains depart from the station connecting various destinations mostly across states in the northern, western and north-western parts of India. The station was renamed from Bombay Central to Mumbai Central in 1997, following the change of Bombay to Mumbai. In 2018, a resolution was passed to change the station code to MMCT,[2] with implementation ongoing. History The Bombay Central station was built in response to the government directive to demolish the Churchgate-Colaba rail section owing to land reclamation needs. The BB&CI had to agree to this back in the 1870s, when it had extended the line to Colaba, when the permission to built the terminus was provided on the condition that in the event of any further reclamation schemes, the railway company would shift its railway to any other location between Marine Lines and Colaba.[3] The railway was provided a notice about the directed demolision in 1920. The BB&CI couldn't do this until a new terminus was found. A new station was completed of the name Bombay Central on 18 December 1930, and Colaba Terminus went defunct after the 31st December of the same year. The Station was designed by the British architect Claude Batley, and constructed by the Shapoorji Pallonji in 1930 in a record time of 21 months. The project was then costed INR 15.6 million.[4] The station opened on 18 December 1930. When the station opened in 1930, The Times of India suggested that the name Bombay Central was inspired by the Grand Central Terminal in New York City. The paper argued that the station should have been called Kamathipura, after the area it was located in. The paper suggested that the name Kamathipura was probably ruled out, because the area is a red-light district.[5] The Bombay, Baroda and Central India Railway extended its reach from Baroda to Pathankot via Delhi. The Colaba-Ballard Pier railway station proved insufficient in meeting the demands of a growing population which led the government to make plans for the construction of Bombay Central. The present suburban route that once ran till Colaba was earlier served by Bellasis Road station. It was renamed Bombay Central (local) after the construction of the long-distance Bombay Central Terminus (BCT) on the eastern side.[6] On 1 Feb 2018, a resolution was passed to change the station code from BCT to MMCT. Infrastructure Platforms and layout The station is divided into two parts. The eastern half of the station serves long-distance trains operated by Western Railways while the western half serves commuter trains running on the Churchgate–Virar suburban section of Western Railways. The mainline section has'a number plates along each end where passengers can pass through or exit their cars without having to enter either train's main compartment; there are no escalators nor elevating ramps here so they don`t interfere much during rush hour traffic conditions such people may not be able get off if travelling alone due only some limited access points within these sections [7]. There were three different types – regular service available daily but sometimes late night services could take up more than 10 minutes depending upon how busy you wanted to go before your journey began - specialised bus routes offered free shuttle buses throughout most areas around the city centre providing extra stops like Kolkata Airport etc., although many places did offer alternative modes even though all those options required drivers who needed help getting onto public transport vehicles rather than waiting outside whilst driving towards work hours instead of going straight home just walking down Market Street / Vadodara road. This meant commuters often got stuck behind carriages trying desperately hard find parking spots nearby whereas taxis usually took longer journeys over crowded roads making travel difficult especially near shopping centres, malls & restaurants ; hence delays caused particularly severe congestion among locals living close enough to see what happened next day! As well we know now our current system does NOT allow us anywhere else except under certain circumstances... For example.. We need additional capacity inside buildings since building materials cannot fit directly underneath existing structures unless used properly.... So far none exists yet however I am sure will soon come together!!\n",
            "------------------------------------------------------------\n",
            "\n",
            "Query: How has the CST station evolved over the years?\n",
            "Generated Response: Query: How has the CST station evolved over the years?\n",
            "\n",
            "Please reflect on the following extract and elaborate:\n",
            "\n",
            "'palace architecture. Externally, the wood carving, tiles, ornamental iron and brass railings, grills for the ticket offices, the balustrades for the grand staircases and other ornaments were the work of students at the Sir Jamsetjee Jeejebhoy School of Art. The station stands as an example of 19th-century railway architectural marvels for its advanced structural and technical solutions. The CSMT was constructed using a high level of engineering both in terms of railway and civil engineering. It is one of the first and finest products of the use of industrial technology, merged with the Gothic Revival style in India. The centrally domed office structure has a 330-foot-long platform connected to a 1,200-foot-long train shed, and its outline provides the skeleton plan for the building. CSMT's dome of dovetailed ribs, built without centering, was considered as a novel achievement of the era. The interior of the building was conceived as a series of large rooms with high ceilings. It is a utilitarian building and has had various changes required by the users, not always sympathetic. It has a C-shaped plan which is symmetrical on an east–west axis. All the sides of the building are given equal value in the design. It is crowned by a high central dome, which acts as the focal point. The dome is an octagonal ribbed structure with a colossal female figure symbolizing Progress, holding a torch pointing upwards in her right hand and a spoked wheel in her left hand. The side wings enclose the courtyard, which opens on to the street. The wings are anchored by monumental turrets at each of their four corners, which balance and frame the central dome. The façades present the appearance of well-proportioned rows of windows and arches. The ornamentation in the form of statuary, bas-reliefs, and friezes is exuberant yet well controlled. The columns of the entrance gates are crowned by figures of a lion (representing Great Britain) and a tiger (representing India). The main structure is built from a blend of India sandstone and limestone, while high-quality Italian marble was used for the key decorative elements. The main interiors are also decorated: the ground floor of the North Wing, known as the Star Chamber, which is still used as the booking office, is embellished with Italian marble and polished Indian blue stone. The stone arches are covered with carved foliage and grotesques.[25] Internally, the ceiling of the booking hall was originally painted blue, gold and strong red on a ground of rich blue with gold stars. Its walls were lined with glazed tiles made by Maw & Co of Britain.[16] Outside, there are statues representing Commerce, Agriculture, Engineering and Science, with a statue representing Progress on the central dome of the station.[16] Platforms CSMT has a total of 18 platforms—seven platforms are for suburban EMU trains and eleven platforms (Platform 8 to Platform 18) are for long-distance trains. Rajdhani, Duronto, Garib Rath and Tejas Express leave from Platform No. 18.[26] Air-conditioned dormitories were inaugurated at CST on 16 April 2013. The facility has 58 beds for men and 20 for women.'[27][28]. In addition it offers accommodation including two private apartments where people can stay together during daytime hours under special arrangements provided that they have sufficient space available within 24 hrs after departure time; three separate bedrooms accommodates upto six persons per room but only five guests may be allowed into this apartment alone if necessary due'security concerns'. A single bed will accommodate eight adults plus children aged 12+ who must remain seated when sleeping outside until 6am every day between 9pm and 5 am daily except Sundays/National holidays such days being Monday through Friday 11 pm – 4 noon 10 pm - 7 oclok Tuesday thru Saturday 2nd Thursday Sunday 3rd Wednesday Weekend [29], Daytime Schedule\n",
            "------------------------------------------------------------\n",
            "\n"
          ]
        }
      ]
    },
    {
      "cell_type": "markdown",
      "source": [
        "This function is intended to assess the system through the execution of a predetermined series of test questions, enabling the observation of the system's performance in handling various literary inquiries.\n",
        "\n",
        "When testing with various questions, the function presents the replies in a methodical manner, making it simple to analyse and analyse the system's performance."
      ],
      "metadata": {
        "id": "FZsVzR6YpXi9"
      }
    }
  ]
}